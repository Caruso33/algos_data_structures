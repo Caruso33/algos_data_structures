{
 "cells": [
  {
   "cell_type": "markdown",
   "metadata": {
    "graffitiCellId": "id_18ngdm1"
   },
   "source": [
    "# Linked List Practice\n",
    "\n",
    "Implement a linked list class. Your class should be able to:\n",
    "\n",
    "+ Append data to the tail of the list and prepend to the head\n",
    "+ Search the linked list for a value and return the node\n",
    "+ Remove a node\n",
    "+ Pop, which means to return the first node's value and delete the node from the list\n",
    "+ Insert data at some position in the list\n",
    "+ Return the size (length) of the linked list"
   ]
  },
  {
   "cell_type": "code",
   "execution_count": 1,
   "metadata": {
    "graffitiCellId": "id_x917dkg"
   },
   "outputs": [],
   "source": [
    "class Node:\n",
    "    pass"
   ]
  },
  {
   "cell_type": "code",
   "execution_count": 2,
   "metadata": {
    "graffitiCellId": "id_hg4vhdi"
   },
   "outputs": [],
   "source": [
    "class LinkedList:\n",
    "    pass"
   ]
  },
  {
   "cell_type": "code",
   "execution_count": 3,
   "metadata": {
    "graffitiCellId": "id_f9k83vl"
   },
   "outputs": [],
   "source": [
    "## Test your implementation here\n",
    "\n",
    "# Test prepend\n",
    "linked_list = LinkedList()\n",
    "linked_list.prepend(1)\n",
    "assert linked_list.to_list() == [1], f\"list contents: {linked_list.to_list()}\"\n",
    "linked_list.append(3)\n",
    "linked_list.prepend(2)\n",
    "assert linked_list.to_list() == [2, 1, 3], f\"list contents: {linked_list.to_list()}\"\n",
    "    \n",
    "# Test append\n",
    "linked_list = LinkedList()\n",
    "linked_list.append(1)\n",
    "assert linked_list.to_list() == [1], f\"list contents: {linked_list.to_list()}\"\n",
    "linked_list.append(3)\n",
    "assert linked_list.to_list() == [1, 3], f\"list contents: {linked_list.to_list()}\"\n",
    "\n",
    "# Test search\n",
    "linked_list.prepend(2)\n",
    "linked_list.prepend(1)\n",
    "linked_list.append(4)\n",
    "linked_list.append(3)\n",
    "assert linked_list.search(1).value == 1, f\"list contents: {linked_list.to_list()}\"\n",
    "assert linked_list.search(4).value == 4, f\"list contents: {linked_list.to_list()}\"\n",
    "\n",
    "# Test remove\n",
    "linked_list.remove(1)\n",
    "assert linked_list.to_list() == [2, 1, 3, 4, 3], f\"list contents: {linked_list.to_list()}\"\n",
    "linked_list.remove(3)\n",
    "assert linked_list.to_list() == [2, 1, 4, 3], f\"list contents: {linked_list.to_list()}\"\n",
    "linked_list.remove(3)\n",
    "assert linked_list.to_list() == [2, 1, 4], f\"list contents: {linked_list.to_list()}\"\n",
    "\n",
    "# Test pop\n",
    "value = linked_list.pop()\n",
    "assert value == 2, f\"list contents: {linked_list.to_list()}\"\n",
    "assert linked_list.head.value == 1, f\"list contents: {linked_list.to_list()}\"\n",
    "\n",
    "# Test insert \n",
    "linked_list.insert(5, 0)\n",
    "assert linked_list.to_list() == [5, 1, 4], f\"list contents: {linked_list.to_list()}\"\n",
    "linked_list.insert(2, 1)\n",
    "assert linked_list.to_list() == [5, 2, 1, 4], f\"list contents: {linked_list.to_list()}\"\n",
    "linked_list.insert(3, 6)\n",
    "assert linked_list.to_list() == [5, 2, 1, 4, 3], f\"list contents: {linked_list.to_list()}\"\n",
    "\n",
    "# Test size\n",
    "assert linked_list.size() == 5, f\"list contents: {linked_list.to_list()}\""
   ]
  },
  {
   "cell_type": "markdown",
   "metadata": {
    "graffitiCellId": "id_hpn7l32"
   },
   "source": [
    "<span class=\"graffiti-highlight graffiti-id_hpn7l32-id_xaqiyxe\"><i></i><button>Show Solution</button></span>"
   ]
  }
 ],
 "metadata": {
  "graffiti": {
   "firstAuthorId": "10694620118",
   "id": "id_9v48ov8",
   "language": "EN"
  },
  "kernelspec": {
   "display_name": "Python 3",
   "language": "python",
   "name": "python3"
  },
  "language_info": {
   "codemirror_mode": {
    "name": "ipython",
    "version": 3
   },
   "file_extension": ".py",
   "mimetype": "text/x-python",
   "name": "python",
   "nbconvert_exporter": "python",
   "pygments_lexer": "ipython3",
   "version": "3.6.3"
  }
 },
 "nbformat": 4,
 "nbformat_minor": 2
}